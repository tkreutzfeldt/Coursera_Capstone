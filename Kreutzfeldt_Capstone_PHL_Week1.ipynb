{
 "cells": [
  {
   "cell_type": "markdown",
   "metadata": {},
   "source": [
    "# Capstone Project: The Battle of the Neighborhoods"
   ]
  },
  {
   "cell_type": "markdown",
   "metadata": {},
   "source": [
    "### Written by: Tim Kreutzfeldt"
   ]
  },
  {
   "cell_type": "markdown",
   "metadata": {},
   "source": [
    "## Table of contents\n",
    "* [Introduction: Business Problem](#introduction)\n",
    "* [Data](#data)"
   ]
  },
  {
   "cell_type": "markdown",
   "metadata": {},
   "source": [
    "## Introduction: Business Problem"
   ]
  },
  {
   "cell_type": "markdown",
   "metadata": {},
   "source": [
    "On January 1, 2021, OpenBox Athletics suffered a fire which destroyed large portions of the building and a majority of its gym equipment. As one of the only gyms in Philadelphia which offered structured outdoor workouts throughout the COVID-19 pandemic, the loss of the gym came as a great shock to the Point Breeze neighborhood in which OpenBox Athletics is located. The gym's ownership is now actively looking for a new gym location.\n",
    "\n",
    "In this project, we will explore the optimal location to open a gym in Philadelphia. Special attention will be given to locations which are not already saturated with gyms. Of additional interest to OpenBox Athletics will be selecting a location which is close to its original location so that the gym can maintain its clientle in the Point Breeze neighborhood.\n",
    "\n",
    "We will explore this topic in detail using the data science methodology and tools which have been laid out in prior courses in the IBM Data Science Professional Certificate. Specifically, we will attempt to find the optimal location (in terms of Philadelphia city blocks) to be the home of the new OpenBox Athletics."
   ]
  },
  {
   "cell_type": "markdown",
   "metadata": {},
   "source": [
    "## Data"
   ]
  },
  {
   "cell_type": "markdown",
   "metadata": {},
   "source": [
    "The main factors which will influence the location of the optimal new gym location will be the following:\n",
    "\n",
    "* Proximity to old location of OpenBox Athletics (1931 Washington Ave, Philadelphia, PA 19146)\n",
    "* Distance from the next closest gym\n",
    "\n",
    "In order to determine the answers to these questions, the Foursquare API will be used to obtain geographical coordinates and other relevant information about nearby gyms and venues. A spatial grid will be created according to the size of a Philadelphia city block and each point in the grid will be assessed by cross-referencing the geographical information from the Foursquare API."
   ]
  }
 ],
 "metadata": {
  "kernelspec": {
   "display_name": "Python 3",
   "language": "python",
   "name": "python3"
  },
  "language_info": {
   "codemirror_mode": {
    "name": "ipython",
    "version": 3
   },
   "file_extension": ".py",
   "mimetype": "text/x-python",
   "name": "python",
   "nbconvert_exporter": "python",
   "pygments_lexer": "ipython3",
   "version": "3.6.3"
  }
 },
 "nbformat": 4,
 "nbformat_minor": 2
}
